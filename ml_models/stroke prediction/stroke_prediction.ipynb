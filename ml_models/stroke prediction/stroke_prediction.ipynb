{
 "cells": [
  {
   "cell_type": "code",
   "execution_count": 1,
   "metadata": {},
   "outputs": [],
   "source": [
    "import pandas as pd\n",
    "from sklearn.model_selection import train_test_split, GridSearchCV\n",
    "from sklearn.ensemble import RandomForestClassifier\n",
    "import pickle\n"
   ]
  },
  {
   "cell_type": "code",
   "execution_count": 2,
   "metadata": {},
   "outputs": [],
   "source": [
    "def train_model():\n",
    "    # Read the dataset\n",
    "    df = pd.read_csv('healthcare-dataset-stroke-data.csv')\n",
    "\n",
    "    # Drop the 'id' column\n",
    "    df.drop(columns='id', inplace=True)\n",
    "\n",
    "    # Handle missing values in 'bmi' column\n",
    "    df['bmi'].fillna(df['bmi'].mean(), inplace=True)\n",
    "    df[\"ever_married\"] = df[\"ever_married\"].map({\"Yes\": 1, \"No\": 0})\n",
    "    # Convert categorical variables to numerical using one-hot encoding\n",
    "    df = pd.get_dummies(df, columns=[\"gender\", \"work_type\", \"smoking_status\", \"Residence_type\"])\n",
    "\n",
    "    # Split the dataset into training and testing sets\n",
    "    X = df.drop(columns='stroke')\n",
    "    y = df['stroke']\n",
    "    X_train, X_test, y_train, y_test = train_test_split(X, y, test_size=0.2, random_state=42)\n",
    "\n",
    "    # Define a Random Forest Classifier model and set up a parameter grid for hyperparameter tuning using GridSearchCV\n",
    "    clf = RandomForestClassifier(n_jobs=-1)\n",
    "    param_grid = {\n",
    "        'n_estimators': [100, 200, 300, 400, 500],\n",
    "        'max_depth': [None, 2, 3, 4, 5]\n",
    "    }\n",
    "\n",
    "    # Perform GridSearchCV to find the best parameters for the model\n",
    "    GSCV = GridSearchCV(clf, param_grid, cv=5, scoring='accuracy')\n",
    "    GSCV.fit(X_train, y_train)\n",
    "\n",
    "    # Print best parameters and score\n",
    "    print('Best Params:', GSCV.best_params_)\n",
    "    print('Best Score:', GSCV.best_score_)\n",
    "\n",
    "    # Save the trained model to a file\n",
    "    with open(\"ml_model.pkl\", 'wb') as file:\n",
    "        pickle.dump(GSCV, file)\n",
    "\n",
    "    return GSCV, X_test, y_test\n",
    "\n",
    "def load_model():\n",
    "    # Load the pre-trained model from the file\n",
    "    with open('ml_model.pkl', 'rb') as file:\n",
    "        model = pickle.load(file)\n",
    "    return model\n",
    "\n",
    "def predict(model, data):\n",
    "    # Perform prediction using the pre-trained model\n",
    "    prediction = model.predict(data)\n",
    "    return prediction"
   ]
  },
  {
   "cell_type": "code",
   "execution_count": 3,
   "metadata": {},
   "outputs": [
    {
     "name": "stderr",
     "output_type": "stream",
     "text": [
      "C:\\Users\\shiva\\AppData\\Local\\Temp\\ipykernel_10444\\752473067.py:9: FutureWarning: A value is trying to be set on a copy of a DataFrame or Series through chained assignment using an inplace method.\n",
      "The behavior will change in pandas 3.0. This inplace method will never work because the intermediate object on which we are setting values always behaves as a copy.\n",
      "\n",
      "For example, when doing 'df[col].method(value, inplace=True)', try using 'df.method({col: value}, inplace=True)' or df[col] = df[col].method(value) instead, to perform the operation inplace on the original object.\n",
      "\n",
      "\n",
      "  df['bmi'].fillna(df['bmi'].mean(), inplace=True)\n"
     ]
    },
    {
     "name": "stdout",
     "output_type": "stream",
     "text": [
      "Best Params: {'max_depth': 2, 'n_estimators': 100}\n",
      "Best Score: 0.9542565830622498\n"
     ]
    }
   ],
   "source": [
    "trained_model, X_test, y_test = train_model()"
   ]
  },
  {
   "cell_type": "code",
   "execution_count": 4,
   "metadata": {},
   "outputs": [],
   "source": [
    "loaded_model = load_model()"
   ]
  },
  {
   "cell_type": "code",
   "execution_count": 5,
   "metadata": {},
   "outputs": [
    {
     "name": "stdout",
     "output_type": "stream",
     "text": [
      "[0 0 0 ... 0 0 0]\n"
     ]
    }
   ],
   "source": [
    "predictions = predict(loaded_model, X_test)\n",
    "print(predictions)\n"
   ]
  },
  {
   "cell_type": "markdown",
   "metadata": {},
   "source": []
  }
 ],
 "metadata": {
  "kernelspec": {
   "display_name": "Python 3",
   "language": "python",
   "name": "python3"
  },
  "language_info": {
   "codemirror_mode": {
    "name": "ipython",
    "version": 3
   },
   "file_extension": ".py",
   "mimetype": "text/x-python",
   "name": "python",
   "nbconvert_exporter": "python",
   "pygments_lexer": "ipython3",
   "version": "3.12.6"
  }
 },
 "nbformat": 4,
 "nbformat_minor": 2
}
